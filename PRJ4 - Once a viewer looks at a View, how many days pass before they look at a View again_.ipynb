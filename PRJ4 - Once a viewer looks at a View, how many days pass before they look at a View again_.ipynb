{
 "cells": [
  {
   "cell_type": "markdown",
   "id": "3f12c7a2",
   "metadata": {},
   "source": [
    "# Once a viewer looks at a View, how many days pass before they look at a View again?"
   ]
  },
  {
   "cell_type": "code",
   "execution_count": 20,
   "id": "9843e6af",
   "metadata": {},
   "outputs": [],
   "source": [
    "import pandas as pd\n",
    "import numpy as np\n",
    "from datetime import datetime, timedelta\n"
   ]
  },
  {
   "cell_type": "code",
   "execution_count": 21,
   "id": "264881c3",
   "metadata": {},
   "outputs": [],
   "source": [
    "v_gap = pd.read_csv('/Users/granthakason/Downloads/Action Gap_Mock Data - Sheet1.csv')\n",
    "v_gap = v_gap.loc[(v_gap['Actions'] == 'View') & (v_gap['Type'].isin(['View']))]"
   ]
  },
  {
   "cell_type": "markdown",
   "id": "92bfb70d",
   "metadata": {},
   "source": [
    "## Check data"
   ]
  },
  {
   "cell_type": "code",
   "execution_count": 22,
   "id": "0bb2259d",
   "metadata": {},
   "outputs": [
    {
     "data": {
      "text/html": [
       "<div>\n",
       "<style scoped>\n",
       "    .dataframe tbody tr th:only-of-type {\n",
       "        vertical-align: middle;\n",
       "    }\n",
       "\n",
       "    .dataframe tbody tr th {\n",
       "        vertical-align: top;\n",
       "    }\n",
       "\n",
       "    .dataframe thead th {\n",
       "        text-align: right;\n",
       "    }\n",
       "</style>\n",
       "<table border=\"1\" class=\"dataframe\">\n",
       "  <thead>\n",
       "    <tr style=\"text-align: right;\">\n",
       "      <th></th>\n",
       "      <th>ID</th>\n",
       "      <th>Business</th>\n",
       "      <th>Actions</th>\n",
       "      <th>Type</th>\n",
       "      <th>Captured on</th>\n",
       "    </tr>\n",
       "  </thead>\n",
       "  <tbody>\n",
       "    <tr>\n",
       "      <th>0</th>\n",
       "      <td>787.0</td>\n",
       "      <td>Gringotts Wizarding Bank</td>\n",
       "      <td>View</td>\n",
       "      <td>View</td>\n",
       "      <td>8/24/22</td>\n",
       "    </tr>\n",
       "    <tr>\n",
       "      <th>6</th>\n",
       "      <td>451.0</td>\n",
       "      <td>Central Perk</td>\n",
       "      <td>View</td>\n",
       "      <td>View</td>\n",
       "      <td>2/27/23</td>\n",
       "    </tr>\n",
       "    <tr>\n",
       "      <th>12</th>\n",
       "      <td>870.0</td>\n",
       "      <td>Central Perk</td>\n",
       "      <td>View</td>\n",
       "      <td>View</td>\n",
       "      <td>6/8/22</td>\n",
       "    </tr>\n",
       "    <tr>\n",
       "      <th>14</th>\n",
       "      <td>249.0</td>\n",
       "      <td>Monsters Inc</td>\n",
       "      <td>View</td>\n",
       "      <td>View</td>\n",
       "      <td>1/19/23</td>\n",
       "    </tr>\n",
       "    <tr>\n",
       "      <th>26</th>\n",
       "      <td>631.0</td>\n",
       "      <td>Central Perk</td>\n",
       "      <td>View</td>\n",
       "      <td>View</td>\n",
       "      <td>2/13/23</td>\n",
       "    </tr>\n",
       "  </tbody>\n",
       "</table>\n",
       "</div>"
      ],
      "text/plain": [
       "       ID                  Business Actions  Type Captured on\n",
       "0   787.0  Gringotts Wizarding Bank    View  View     8/24/22\n",
       "6   451.0              Central Perk    View  View     2/27/23\n",
       "12  870.0              Central Perk    View  View      6/8/22\n",
       "14  249.0              Monsters Inc    View  View     1/19/23\n",
       "26  631.0              Central Perk    View  View     2/13/23"
      ]
     },
     "execution_count": 22,
     "metadata": {},
     "output_type": "execute_result"
    }
   ],
   "source": [
    "v_gap.head()"
   ]
  },
  {
   "cell_type": "code",
   "execution_count": 23,
   "id": "2bc43ef2",
   "metadata": {},
   "outputs": [
    {
     "name": "stdout",
     "output_type": "stream",
     "text": [
      "<class 'pandas.core.frame.DataFrame'>\n",
      "Int64Index: 250 entries, 0 to 997\n",
      "Data columns (total 5 columns):\n",
      " #   Column       Non-Null Count  Dtype  \n",
      "---  ------       --------------  -----  \n",
      " 0   ID           250 non-null    float64\n",
      " 1   Business     250 non-null    object \n",
      " 2   Actions      250 non-null    object \n",
      " 3   Type         250 non-null    object \n",
      " 4   Captured on  250 non-null    object \n",
      "dtypes: float64(1), object(4)\n",
      "memory usage: 11.7+ KB\n"
     ]
    }
   ],
   "source": [
    "v_gap.info()"
   ]
  },
  {
   "cell_type": "markdown",
   "id": "128c46af",
   "metadata": {},
   "source": [
    "## Convert Recorded on to a date field"
   ]
  },
  {
   "cell_type": "code",
   "execution_count": 24,
   "id": "fe7c755b",
   "metadata": {},
   "outputs": [
    {
     "data": {
      "text/plain": [
       "0       8/24/22\n",
       "6       2/27/23\n",
       "12       6/8/22\n",
       "14      1/19/23\n",
       "26      2/13/23\n",
       "         ...   \n",
       "984    12/16/22\n",
       "988    12/26/22\n",
       "993      7/8/22\n",
       "995     2/15/23\n",
       "997     11/9/22\n",
       "Name: Captured on, Length: 250, dtype: object"
      ]
     },
     "execution_count": 24,
     "metadata": {},
     "output_type": "execute_result"
    }
   ],
   "source": [
    "v_gap['Captured on']"
   ]
  },
  {
   "cell_type": "code",
   "execution_count": 25,
   "id": "1dab1475",
   "metadata": {},
   "outputs": [],
   "source": [
    "v_gap['Captured on'] = pd.to_datetime(v_gap['Captured on'])"
   ]
  },
  {
   "cell_type": "code",
   "execution_count": 26,
   "id": "d32b5806",
   "metadata": {},
   "outputs": [
    {
     "name": "stdout",
     "output_type": "stream",
     "text": [
      "<class 'pandas.core.frame.DataFrame'>\n",
      "Int64Index: 250 entries, 0 to 997\n",
      "Data columns (total 5 columns):\n",
      " #   Column       Non-Null Count  Dtype         \n",
      "---  ------       --------------  -----         \n",
      " 0   ID           250 non-null    float64       \n",
      " 1   Business     250 non-null    object        \n",
      " 2   Actions      250 non-null    object        \n",
      " 3   Type         250 non-null    object        \n",
      " 4   Captured on  250 non-null    datetime64[ns]\n",
      "dtypes: datetime64[ns](1), float64(1), object(3)\n",
      "memory usage: 11.7+ KB\n"
     ]
    }
   ],
   "source": [
    "v_gap.info()"
   ]
  },
  {
   "cell_type": "markdown",
   "id": "93466b29",
   "metadata": {},
   "source": [
    "## Return_time Column Created. "
   ]
  },
  {
   "cell_type": "code",
   "execution_count": 27,
   "id": "fdc0b054",
   "metadata": {},
   "outputs": [],
   "source": [
    "# Sort the DataFrame by the 'user' field and then by the 'recorded on' field\n",
    "v_gap = v_gap.sort_values(['ID', 'Captured on'])\n",
    "\n",
    "# Create a new column called 'Return_Time'\n",
    "v_gap['return_time'] = v_gap.groupby(['ID', 'Type'])['Captured on'].diff().apply(lambda x: x.days)"
   ]
  },
  {
   "cell_type": "markdown",
   "id": "46df281c",
   "metadata": {},
   "source": [
    "## Average time between Views (In Days)"
   ]
  },
  {
   "cell_type": "markdown",
   "id": "2b43f25d",
   "metadata": {},
   "source": [
    "### Overall"
   ]
  },
  {
   "cell_type": "code",
   "execution_count": 28,
   "id": "594e2491",
   "metadata": {},
   "outputs": [
    {
     "data": {
      "text/plain": [
       "117.95833333333333"
      ]
     },
     "execution_count": 28,
     "metadata": {},
     "output_type": "execute_result"
    }
   ],
   "source": [
    "v_gap['return_time'].mean()"
   ]
  },
  {
   "cell_type": "markdown",
   "id": "f2c5a09e",
   "metadata": {},
   "source": [
    "### By Relevant View Type"
   ]
  },
  {
   "cell_type": "code",
   "execution_count": 29,
   "id": "2b6ddcce",
   "metadata": {},
   "outputs": [
    {
     "data": {
      "text/plain": [
       "Type\n",
       "View    117.958333\n",
       "Name: return_time, dtype: float64"
      ]
     },
     "execution_count": 29,
     "metadata": {},
     "output_type": "execute_result"
    }
   ],
   "source": [
    "v_gap.groupby('Type')['return_time'].mean()"
   ]
  },
  {
   "cell_type": "markdown",
   "id": "be016556",
   "metadata": {},
   "source": [
    "### By Customer"
   ]
  },
  {
   "cell_type": "code",
   "execution_count": 30,
   "id": "e8732377",
   "metadata": {},
   "outputs": [
    {
     "data": {
      "text/plain": [
       "Business\n",
       "Buy n Large                 173.000000\n",
       "Central Perk                 80.000000\n",
       "Cyberdyne Systems           111.750000\n",
       "Gringotts Wizarding Bank     43.000000\n",
       "Krusty Crab                 153.400000\n",
       "Monsters Inc                140.000000\n",
       "Umbrella Corporation         86.750000\n",
       "Virtucon                    109.333333\n",
       "Name: return_time, dtype: float64"
      ]
     },
     "execution_count": 30,
     "metadata": {},
     "output_type": "execute_result"
    }
   ],
   "source": [
    "v_gap.groupby('Business')['return_time'].mean()"
   ]
  }
 ],
 "metadata": {
  "kernelspec": {
   "display_name": "Python 3 (ipykernel)",
   "language": "python",
   "name": "python3"
  },
  "language_info": {
   "codemirror_mode": {
    "name": "ipython",
    "version": 3
   },
   "file_extension": ".py",
   "mimetype": "text/x-python",
   "name": "python",
   "nbconvert_exporter": "python",
   "pygments_lexer": "ipython3",
   "version": "3.9.13"
  }
 },
 "nbformat": 4,
 "nbformat_minor": 5
}
