{
 "cells": [
  {
   "cell_type": "markdown",
   "id": "afddcd4e",
   "metadata": {},
   "source": [
    "# How many viewers have not viewed a single View within the past 6 months?\n",
    "### The following is a real world use case filled by me at work. The data field names and data has been changed for privacy reasons. "
   ]
  },
  {
   "cell_type": "markdown",
   "id": "3db55720",
   "metadata": {},
   "source": [
    "## Load and Know your data."
   ]
  },
  {
   "cell_type": "code",
   "execution_count": 93,
   "id": "c7a05d70",
   "metadata": {},
   "outputs": [],
   "source": [
    "import numpy as np\n",
    "import pandas as pd\n",
    "import matplotlib.pyplot as plt"
   ]
  },
  {
   "cell_type": "code",
   "execution_count": 94,
   "id": "d6c029c6",
   "metadata": {},
   "outputs": [],
   "source": [
    "ud = pd.read_csv('/Users/granthakason/Downloads/User Churn Mock Data - Sheet1.csv')"
   ]
  },
  {
   "cell_type": "code",
   "execution_count": 95,
   "id": "4ccf6973",
   "metadata": {},
   "outputs": [
    {
     "data": {
      "text/html": [
       "<div>\n",
       "<style scoped>\n",
       "    .dataframe tbody tr th:only-of-type {\n",
       "        vertical-align: middle;\n",
       "    }\n",
       "\n",
       "    .dataframe tbody tr th {\n",
       "        vertical-align: top;\n",
       "    }\n",
       "\n",
       "    .dataframe thead th {\n",
       "        text-align: right;\n",
       "    }\n",
       "</style>\n",
       "<table border=\"1\" class=\"dataframe\">\n",
       "  <thead>\n",
       "    <tr style=\"text-align: right;\">\n",
       "      <th></th>\n",
       "      <th>ID</th>\n",
       "      <th>Actions</th>\n",
       "      <th>Type</th>\n",
       "      <th>Captured on</th>\n",
       "      <th>altred on</th>\n",
       "    </tr>\n",
       "  </thead>\n",
       "  <tbody>\n",
       "    <tr>\n",
       "      <th>0</th>\n",
       "      <td>787</td>\n",
       "      <td>View</td>\n",
       "      <td>View</td>\n",
       "      <td>8/24/22</td>\n",
       "      <td>11/22/22</td>\n",
       "    </tr>\n",
       "    <tr>\n",
       "      <th>1</th>\n",
       "      <td>80</td>\n",
       "      <td>Hide</td>\n",
       "      <td>Text</td>\n",
       "      <td>10/20/22</td>\n",
       "      <td>3/19/23</td>\n",
       "    </tr>\n",
       "    <tr>\n",
       "      <th>2</th>\n",
       "      <td>209</td>\n",
       "      <td>Hide</td>\n",
       "      <td>Text</td>\n",
       "      <td>11/27/22</td>\n",
       "      <td>5/16/22</td>\n",
       "    </tr>\n",
       "    <tr>\n",
       "      <th>3</th>\n",
       "      <td>751</td>\n",
       "      <td>Destroy</td>\n",
       "      <td>Chats</td>\n",
       "      <td>6/13/22</td>\n",
       "      <td>7/5/22</td>\n",
       "    </tr>\n",
       "    <tr>\n",
       "      <th>4</th>\n",
       "      <td>937</td>\n",
       "      <td>Hide</td>\n",
       "      <td>Text</td>\n",
       "      <td>5/12/22</td>\n",
       "      <td>4/1/23</td>\n",
       "    </tr>\n",
       "  </tbody>\n",
       "</table>\n",
       "</div>"
      ],
      "text/plain": [
       "    ID  Actions  Type  Captured on altred on\n",
       "0  787     View   View     8/24/22  11/22/22\n",
       "1   80     Hide   Text    10/20/22   3/19/23\n",
       "2  209     Hide   Text    11/27/22   5/16/22\n",
       "3  751  Destroy  Chats     6/13/22    7/5/22\n",
       "4  937     Hide   Text     5/12/22    4/1/23"
      ]
     },
     "execution_count": 95,
     "metadata": {},
     "output_type": "execute_result"
    }
   ],
   "source": [
    "ud.head()"
   ]
  },
  {
   "cell_type": "code",
   "execution_count": 99,
   "id": "c8ae9b17",
   "metadata": {},
   "outputs": [
    {
     "data": {
      "text/plain": [
       "View      250\n",
       "Chats     250\n",
       "Slides    250\n",
       "Text      249\n",
       "Name: Type , dtype: int64"
      ]
     },
     "execution_count": 99,
     "metadata": {},
     "output_type": "execute_result"
    }
   ],
   "source": [
    "ud['Type '].value_counts()"
   ]
  },
  {
   "cell_type": "code",
   "execution_count": 101,
   "id": "30ccde57",
   "metadata": {},
   "outputs": [
    {
     "data": {
      "text/plain": [
       "View       250\n",
       "Destroy    250\n",
       "Make       250\n",
       "Hide       249\n",
       "Name: Actions, dtype: int64"
      ]
     },
     "execution_count": 101,
     "metadata": {},
     "output_type": "execute_result"
    }
   ],
   "source": [
    "ud['Actions'].value_counts()"
   ]
  },
  {
   "cell_type": "code",
   "execution_count": 102,
   "id": "024525ca",
   "metadata": {},
   "outputs": [
    {
     "name": "stdout",
     "output_type": "stream",
     "text": [
      "<class 'pandas.core.frame.DataFrame'>\n",
      "RangeIndex: 999 entries, 0 to 998\n",
      "Data columns (total 5 columns):\n",
      " #   Column       Non-Null Count  Dtype \n",
      "---  ------       --------------  ----- \n",
      " 0   ID           999 non-null    int64 \n",
      " 1   Actions      999 non-null    object\n",
      " 2   Type         999 non-null    object\n",
      " 3   Captured on  999 non-null    object\n",
      " 4   altred on    999 non-null    object\n",
      "dtypes: int64(1), object(4)\n",
      "memory usage: 39.1+ KB\n"
     ]
    }
   ],
   "source": [
    "ud.info()"
   ]
  },
  {
   "cell_type": "code",
   "execution_count": 103,
   "id": "db8f2ec1",
   "metadata": {},
   "outputs": [
    {
     "data": {
      "text/html": [
       "<div>\n",
       "<style scoped>\n",
       "    .dataframe tbody tr th:only-of-type {\n",
       "        vertical-align: middle;\n",
       "    }\n",
       "\n",
       "    .dataframe tbody tr th {\n",
       "        vertical-align: top;\n",
       "    }\n",
       "\n",
       "    .dataframe thead th {\n",
       "        text-align: right;\n",
       "    }\n",
       "</style>\n",
       "<table border=\"1\" class=\"dataframe\">\n",
       "  <thead>\n",
       "    <tr style=\"text-align: right;\">\n",
       "      <th></th>\n",
       "      <th>ID</th>\n",
       "      <th>Actions</th>\n",
       "      <th>Type</th>\n",
       "      <th>Captured on</th>\n",
       "      <th>altred on</th>\n",
       "    </tr>\n",
       "  </thead>\n",
       "  <tbody>\n",
       "    <tr>\n",
       "      <th>0</th>\n",
       "      <td>787</td>\n",
       "      <td>View</td>\n",
       "      <td>View</td>\n",
       "      <td>8/24/22</td>\n",
       "      <td>11/22/22</td>\n",
       "    </tr>\n",
       "    <tr>\n",
       "      <th>1</th>\n",
       "      <td>80</td>\n",
       "      <td>Hide</td>\n",
       "      <td>Text</td>\n",
       "      <td>10/20/22</td>\n",
       "      <td>3/19/23</td>\n",
       "    </tr>\n",
       "    <tr>\n",
       "      <th>2</th>\n",
       "      <td>209</td>\n",
       "      <td>Hide</td>\n",
       "      <td>Text</td>\n",
       "      <td>11/27/22</td>\n",
       "      <td>5/16/22</td>\n",
       "    </tr>\n",
       "  </tbody>\n",
       "</table>\n",
       "</div>"
      ],
      "text/plain": [
       "    ID Actions Type  Captured on altred on\n",
       "0  787    View  View     8/24/22  11/22/22\n",
       "1   80    Hide  Text    10/20/22   3/19/23\n",
       "2  209    Hide  Text    11/27/22   5/16/22"
      ]
     },
     "execution_count": 103,
     "metadata": {},
     "output_type": "execute_result"
    }
   ],
   "source": [
    "ud.head(3)"
   ]
  },
  {
   "cell_type": "markdown",
   "id": "7a00b7bc",
   "metadata": {},
   "source": [
    "## Conditions Set"
   ]
  },
  {
   "cell_type": "code",
   "execution_count": 104,
   "id": "cb8c1cfb",
   "metadata": {},
   "outputs": [],
   "source": [
    "# make recorded on a date field\n",
    "ud['Captured on'] = pd.to_datetime(ud['Captured on'])"
   ]
  },
  {
   "cell_type": "code",
   "execution_count": 106,
   "id": "5b40e2c8",
   "metadata": {},
   "outputs": [],
   "source": [
    "# Filerting the data to view of a view.\n",
    "    \n",
    "ud_fil = ud.loc[(ud['Type '] == 'View') &  \n",
    "                (ud['Actions'] == 'View')] \n",
    "                "
   ]
  },
  {
   "cell_type": "code",
   "execution_count": 107,
   "id": "7e0a84fb",
   "metadata": {},
   "outputs": [
    {
     "data": {
      "text/html": [
       "<div>\n",
       "<style scoped>\n",
       "    .dataframe tbody tr th:only-of-type {\n",
       "        vertical-align: middle;\n",
       "    }\n",
       "\n",
       "    .dataframe tbody tr th {\n",
       "        vertical-align: top;\n",
       "    }\n",
       "\n",
       "    .dataframe thead th {\n",
       "        text-align: right;\n",
       "    }\n",
       "</style>\n",
       "<table border=\"1\" class=\"dataframe\">\n",
       "  <thead>\n",
       "    <tr style=\"text-align: right;\">\n",
       "      <th></th>\n",
       "      <th>ID</th>\n",
       "      <th>Actions</th>\n",
       "      <th>Type</th>\n",
       "      <th>Captured on</th>\n",
       "      <th>altred on</th>\n",
       "    </tr>\n",
       "  </thead>\n",
       "  <tbody>\n",
       "    <tr>\n",
       "      <th>0</th>\n",
       "      <td>787</td>\n",
       "      <td>View</td>\n",
       "      <td>View</td>\n",
       "      <td>2022-08-24</td>\n",
       "      <td>11/22/22</td>\n",
       "    </tr>\n",
       "    <tr>\n",
       "      <th>6</th>\n",
       "      <td>451</td>\n",
       "      <td>View</td>\n",
       "      <td>View</td>\n",
       "      <td>2023-02-27</td>\n",
       "      <td>6/14/22</td>\n",
       "    </tr>\n",
       "    <tr>\n",
       "      <th>12</th>\n",
       "      <td>870</td>\n",
       "      <td>View</td>\n",
       "      <td>View</td>\n",
       "      <td>2022-06-08</td>\n",
       "      <td>4/5/23</td>\n",
       "    </tr>\n",
       "    <tr>\n",
       "      <th>14</th>\n",
       "      <td>249</td>\n",
       "      <td>View</td>\n",
       "      <td>View</td>\n",
       "      <td>2023-01-19</td>\n",
       "      <td>10/28/22</td>\n",
       "    </tr>\n",
       "    <tr>\n",
       "      <th>26</th>\n",
       "      <td>631</td>\n",
       "      <td>View</td>\n",
       "      <td>View</td>\n",
       "      <td>2023-02-13</td>\n",
       "      <td>2/7/23</td>\n",
       "    </tr>\n",
       "  </tbody>\n",
       "</table>\n",
       "</div>"
      ],
      "text/plain": [
       "     ID Actions Type  Captured on altred on\n",
       "0   787    View  View  2022-08-24  11/22/22\n",
       "6   451    View  View  2023-02-27   6/14/22\n",
       "12  870    View  View  2022-06-08    4/5/23\n",
       "14  249    View  View  2023-01-19  10/28/22\n",
       "26  631    View  View  2023-02-13    2/7/23"
      ]
     },
     "execution_count": 107,
     "metadata": {},
     "output_type": "execute_result"
    }
   ],
   "source": [
    "ud_fil.head()"
   ]
  },
  {
   "cell_type": "markdown",
   "id": "dd74bef0",
   "metadata": {},
   "source": [
    "# Outputs"
   ]
  },
  {
   "cell_type": "markdown",
   "id": "41a1bd0f",
   "metadata": {},
   "source": [
    "### Finding Number of Unique ID's"
   ]
  },
  {
   "cell_type": "code",
   "execution_count": 108,
   "id": "9d5ca83d",
   "metadata": {
    "scrolled": false
   },
   "outputs": [
    {
     "data": {
      "text/plain": [
       "250"
      ]
     },
     "execution_count": 108,
     "metadata": {},
     "output_type": "execute_result"
    }
   ],
   "source": [
    "ud_fil['ID'].nunique()"
   ]
  },
  {
   "cell_type": "markdown",
   "id": "dfecc89a",
   "metadata": {},
   "source": [
    "### Filtering by the user latest view (ulv) "
   ]
  },
  {
   "cell_type": "code",
   "execution_count": 111,
   "id": "788b9fe1",
   "metadata": {},
   "outputs": [
    {
     "data": {
      "text/html": [
       "<div>\n",
       "<style scoped>\n",
       "    .dataframe tbody tr th:only-of-type {\n",
       "        vertical-align: middle;\n",
       "    }\n",
       "\n",
       "    .dataframe tbody tr th {\n",
       "        vertical-align: top;\n",
       "    }\n",
       "\n",
       "    .dataframe thead th {\n",
       "        text-align: right;\n",
       "    }\n",
       "</style>\n",
       "<table border=\"1\" class=\"dataframe\">\n",
       "  <thead>\n",
       "    <tr style=\"text-align: right;\">\n",
       "      <th></th>\n",
       "      <th>Captured on</th>\n",
       "      <th>altred on</th>\n",
       "      <th>latest_sys_uo</th>\n",
       "      <th>rec</th>\n",
       "      <th>latest</th>\n",
       "      <th>dys_inactive</th>\n",
       "    </tr>\n",
       "    <tr>\n",
       "      <th>ID</th>\n",
       "      <th></th>\n",
       "      <th></th>\n",
       "      <th></th>\n",
       "      <th></th>\n",
       "      <th></th>\n",
       "      <th></th>\n",
       "    </tr>\n",
       "  </thead>\n",
       "  <tbody>\n",
       "    <tr>\n",
       "      <th>2</th>\n",
       "      <td>2022-06-27</td>\n",
       "      <td>11/5/22</td>\n",
       "      <td>9/9/22</td>\n",
       "      <td>2022-06-27</td>\n",
       "      <td>2022-09-09</td>\n",
       "      <td>74</td>\n",
       "    </tr>\n",
       "    <tr>\n",
       "      <th>3</th>\n",
       "      <td>2022-04-14</td>\n",
       "      <td>6/30/22</td>\n",
       "      <td>9/9/22</td>\n",
       "      <td>2022-04-14</td>\n",
       "      <td>2022-09-09</td>\n",
       "      <td>148</td>\n",
       "    </tr>\n",
       "    <tr>\n",
       "      <th>7</th>\n",
       "      <td>2022-08-16</td>\n",
       "      <td>6/11/22</td>\n",
       "      <td>9/9/22</td>\n",
       "      <td>2022-08-16</td>\n",
       "      <td>2022-09-09</td>\n",
       "      <td>24</td>\n",
       "    </tr>\n",
       "    <tr>\n",
       "      <th>13</th>\n",
       "      <td>2022-12-26</td>\n",
       "      <td>6/15/22</td>\n",
       "      <td>9/9/22</td>\n",
       "      <td>2022-12-26</td>\n",
       "      <td>2022-09-09</td>\n",
       "      <td>-108</td>\n",
       "    </tr>\n",
       "    <tr>\n",
       "      <th>16</th>\n",
       "      <td>2022-06-20</td>\n",
       "      <td>5/9/22</td>\n",
       "      <td>9/9/22</td>\n",
       "      <td>2022-06-20</td>\n",
       "      <td>2022-09-09</td>\n",
       "      <td>81</td>\n",
       "    </tr>\n",
       "    <tr>\n",
       "      <th>...</th>\n",
       "      <td>...</td>\n",
       "      <td>...</td>\n",
       "      <td>...</td>\n",
       "      <td>...</td>\n",
       "      <td>...</td>\n",
       "      <td>...</td>\n",
       "    </tr>\n",
       "    <tr>\n",
       "      <th>986</th>\n",
       "      <td>2023-01-23</td>\n",
       "      <td>11/16/22</td>\n",
       "      <td>9/9/22</td>\n",
       "      <td>2023-01-23</td>\n",
       "      <td>2022-09-09</td>\n",
       "      <td>-136</td>\n",
       "    </tr>\n",
       "    <tr>\n",
       "      <th>987</th>\n",
       "      <td>2022-05-07</td>\n",
       "      <td>3/20/23</td>\n",
       "      <td>9/9/22</td>\n",
       "      <td>2022-05-07</td>\n",
       "      <td>2022-09-09</td>\n",
       "      <td>125</td>\n",
       "    </tr>\n",
       "    <tr>\n",
       "      <th>993</th>\n",
       "      <td>2022-07-12</td>\n",
       "      <td>1/24/23</td>\n",
       "      <td>9/9/22</td>\n",
       "      <td>2022-07-12</td>\n",
       "      <td>2022-09-09</td>\n",
       "      <td>59</td>\n",
       "    </tr>\n",
       "    <tr>\n",
       "      <th>996</th>\n",
       "      <td>2023-01-29</td>\n",
       "      <td>4/30/22</td>\n",
       "      <td>9/9/22</td>\n",
       "      <td>2023-01-29</td>\n",
       "      <td>2022-09-09</td>\n",
       "      <td>-142</td>\n",
       "    </tr>\n",
       "    <tr>\n",
       "      <th>997</th>\n",
       "      <td>2022-10-14</td>\n",
       "      <td>12/21/22</td>\n",
       "      <td>9/9/22</td>\n",
       "      <td>2022-10-14</td>\n",
       "      <td>2022-09-09</td>\n",
       "      <td>-35</td>\n",
       "    </tr>\n",
       "  </tbody>\n",
       "</table>\n",
       "<p>250 rows × 6 columns</p>\n",
       "</div>"
      ],
      "text/plain": [
       "    Captured on altred on latest_sys_uo        rec     latest  dys_inactive\n",
       "ID                                                                         \n",
       "2    2022-06-27   11/5/22        9/9/22 2022-06-27 2022-09-09            74\n",
       "3    2022-04-14   6/30/22        9/9/22 2022-04-14 2022-09-09           148\n",
       "7    2022-08-16   6/11/22        9/9/22 2022-08-16 2022-09-09            24\n",
       "13   2022-12-26   6/15/22        9/9/22 2022-12-26 2022-09-09          -108\n",
       "16   2022-06-20    5/9/22        9/9/22 2022-06-20 2022-09-09            81\n",
       "..          ...       ...           ...        ...        ...           ...\n",
       "986  2023-01-23  11/16/22        9/9/22 2023-01-23 2022-09-09          -136\n",
       "987  2022-05-07   3/20/23        9/9/22 2022-05-07 2022-09-09           125\n",
       "993  2022-07-12   1/24/23        9/9/22 2022-07-12 2022-09-09            59\n",
       "996  2023-01-29   4/30/22        9/9/22 2023-01-29 2022-09-09          -142\n",
       "997  2022-10-14  12/21/22        9/9/22 2022-10-14 2022-09-09           -35\n",
       "\n",
       "[250 rows x 6 columns]"
      ]
     },
     "execution_count": 111,
     "metadata": {},
     "output_type": "execute_result"
    }
   ],
   "source": [
    "# making the date show latest Captured on date for used and showing the associated altered on week.\n",
    "ulv = ud_fil.groupby(['ID']).agg({'Captured on': 'max', 'altred on': 'max'})\n",
    "\n",
    "#Adding most recent ud altered on week to help with calculations\n",
    "latest_sys_ud = ud['altred on'].max()\n",
    "ulv['latest_sys_uo'] = 0\n",
    "\n",
    "#for looping most recent alter into the new column for calculations\n",
    "\n",
    "for index, row in ulv.iterrows():\n",
    "    ulv.at[index, 'latest_sys_uo'] = latest_sys_ud\n",
    "\n",
    "#Converting fields to date time to make thing calculatable into days\n",
    "\n",
    "ulv['rec'] = pd.to_datetime(ulv['Captured on'], format='%m/%d/%y')\n",
    "\n",
    "ulv['latest'] = pd.to_datetime(ulv['latest_sys_uo'], format='%m/%d/%y')\n",
    "\n",
    "# Adding new field to show 'days inactive'\n",
    "\n",
    "ulv['dys_inactive'] = (ulv['latest'] - ulv['rec']).dt.days\n",
    "\n",
    "\n",
    "ulv"
   ]
  },
  {
   "cell_type": "markdown",
   "id": "723a3143",
   "metadata": {},
   "source": [
    "## Breakdown and Visualize Users down by Churned and Active\n",
    "\n",
    "#### -          Churned: >180 days since last Viewing of a view or slide\n",
    "#### -          Active: <= 180 days since last View (action) of a view or slide (type)"
   ]
  },
  {
   "cell_type": "markdown",
   "id": "e4831069",
   "metadata": {},
   "source": [
    "### Breakdown"
   ]
  },
  {
   "cell_type": "code",
   "execution_count": 112,
   "id": "69e9af59",
   "metadata": {},
   "outputs": [
    {
     "data": {
      "text/plain": [
       "Active    250\n",
       "Name: User_State, dtype: int64"
      ]
     },
     "execution_count": 112,
     "metadata": {},
     "output_type": "execute_result"
    }
   ],
   "source": [
    "#For looping User States Churned and Active into the field based on described conditions above. \n",
    "\n",
    "for index, row in ulv.iterrows():\n",
    "    if row['dys_inactive'] <= 180:\n",
    "        ulv.loc[index, 'User_State'] = 'Active'\n",
    "    else:\n",
    "        ulv.loc[index, 'User_State'] = 'Churned'\n",
    "        \n",
    "# Counts of Churned vs Active users\n",
    "    \n",
    "ulv['User_State'].value_counts()\n",
    "\n"
   ]
  },
  {
   "cell_type": "code",
   "execution_count": 113,
   "id": "b83dba93",
   "metadata": {},
   "outputs": [],
   "source": [
    "# calculate the counts and percentages of each User State \n",
    "counts = ulv['User_State'].value_counts()\n",
    "percentages = counts / len(ulv) * 100"
   ]
  },
  {
   "cell_type": "markdown",
   "id": "a2cca832",
   "metadata": {},
   "source": [
    "### Visual"
   ]
  },
  {
   "cell_type": "code",
   "execution_count": 115,
   "id": "5f79a18b",
   "metadata": {},
   "outputs": [
    {
     "data": {
      "image/png": "[encoded data removed]",
      "text/plain": [
       "<Figure size 640x480 with 1 Axes>"
      ]
     },
     "metadata": {},
     "output_type": "display_data"
    }
   ],
   "source": [
    "# create a bar chart\n",
    "colors = ['blue', 'orange']\n",
    "plt.bar(percentages.index, percentages, color=colors)\n",
    "plt.title('User State Breakdown: Record Retention RATE!!!!!!')\n",
    "plt.xlabel('User State')\n",
    "plt.ylabel('Percentage')\n",
    "\n",
    "for i, v in enumerate(percentages):\n",
    "    plt.text(i, v, f\"{v:.2f}%\", ha='center')\n",
    "    \n",
    "handles = [plt.Rectangle((0,0),1,1, color=color) for color in colors]\n",
    "plt.legend(handles, ['Active', 'Churned'])\n",
    "\n",
    "plt.show()"
   ]
  },
  {
   "cell_type": "code",
   "execution_count": null,
   "id": "d8121670",
   "metadata": {},
   "outputs": [],
   "source": []
  }
 ],
 "metadata": {
  "kernelspec": {
   "display_name": "Python 3 (ipykernel)",
   "language": "python",
   "name": "python3"
  },
  "language_info": {
   "codemirror_mode": {
    "name": "ipython",
    "version": 3
   },
   "file_extension": ".py",
   "mimetype": "text/x-python",
   "name": "python",
   "nbconvert_exporter": "python",
   "pygments_lexer": "ipython3",
   "version": "3.9.13"
  }
 },
 "nbformat": 4,
 "nbformat_minor": 5
}
